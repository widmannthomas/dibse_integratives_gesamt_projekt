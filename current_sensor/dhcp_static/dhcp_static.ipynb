{
 "cells": [
  {
   "cell_type": "code",
   "execution_count": 258,
   "source": [
    "import pandas as pd\r\n",
    "import numpy as np\r\n",
    "from scipy import integrate\r\n",
    "import matplotlib.pyplot as plt\r\n",
    "\r\n",
    "plt.rcParams[\"figure.figsize\"] = (7,5)"
   ],
   "outputs": [],
   "metadata": {}
  },
  {
   "cell_type": "code",
   "execution_count": 259,
   "source": [
    "def calc_AmpereSecFromDataFrame(df):\r\n",
    "    return integrate.trapz(df.current_mA.div(1000), df.time_ms.div(1000))\r\n",
    "\r\n",
    "\r\n",
    "def calc_load_coulomb_str(df):\r\n",
    "    load = calc_AmpereSecFromDataFrame(df)\r\n",
    "    return \"Q = {:.4f} As\".format(load)\r\n",
    "    \r\n",
    "def calc_load_coulomb(df):\r\n",
    "    load = calc_AmpereSecFromDataFrame(df)\r\n",
    "    return load"
   ],
   "outputs": [],
   "metadata": {}
  },
  {
   "cell_type": "markdown",
   "source": [
    "# DHCP Random Mac"
   ],
   "metadata": {}
  },
  {
   "cell_type": "code",
   "execution_count": 260,
   "source": [
    "data_frame_dhcp = pd.read_csv(\"dynamic_ip.csv\", sep=\" \", names=[\"time_ms\", \"current_mA\"])\r\n",
    "df_dhcp = data_frame_dhcp[5234:7454]\r\n",
    "plt.title(\"(DHCP) \" + calc_load_coulomb_str(df_dhcp))\r\n",
    "plt.xlabel(\"t [ms]\")\r\n",
    "plt.ylabel(\"Current [mA]\")\r\n",
    "plt.plot(df_dhcp.time_ms[:, None], df_dhcp.current_mA[:, None], label=\"Current [mA]\")\r\n",
    "plt.axvspan(281555, 287057, color='green', alpha=0.3, label=\"Establish connection (~5502ms)\")\r\n",
    "plt.legend()\r\n",
    "plt.show()"
   ],
   "outputs": [
    {
     "output_type": "stream",
     "name": "stderr",
     "text": [
      "<ipython-input-260-4943bca2e860>:6: FutureWarning: Support for multi-dimensional indexing (e.g. `obj[:, None]`) is deprecated and will be removed in a future version.  Convert to a numpy array before indexing instead.\n",
      "  plt.plot(df_dhcp.time_ms[:, None], df_dhcp.current_mA[:, None], label=\"Current [mA]\")\n"
     ]
    },
    {
     "output_type": "display_data",
     "data": {
      "image/png": "[encoded data removed]",
      "text/plain": [
       "<Figure size 504x360 with 1 Axes>"
      ]
     },
     "metadata": {
      "needs_background": "light"
     }
    }
   ],
   "metadata": {}
  },
  {
   "cell_type": "code",
   "execution_count": 272,
   "source": [
    "#TODO!\r\n",
    "\r\n",
    "data_frame_dhcp_describe = pd.read_csv(\"dhcp_random_mac.csv\", sep=\" \", names=[\"time_ms\", \"current_mA\"])\r\n",
    "\r\n",
    "current_ma1=data_frame_dhcp_describe[2172:4037][\"current_mA\"]\r\n",
    "current_ma2=data_frame_dhcp_describe[4390:6623][\"current_mA\"]\r\n",
    "current_ma3=data_frame_dhcp_describe[7059:8923][\"current_mA\"]\r\n",
    "current_ma4=data_frame_dhcp_describe[9376:11240][\"current_mA\"]\r\n",
    "current_ma5=data_frame_dhcp_describe[11735:13608][\"current_mA\"]\r\n",
    "current_ma6=data_frame_dhcp_describe[13913:15806][\"current_mA\"]\r\n",
    "current_ma7=data_frame_dhcp_describe[18192:20055][\"current_mA\"]\r\n",
    "current_ma8=data_frame_dhcp_describe[20494:22358][\"current_mA\"]\r\n",
    "current_ma9=data_frame_dhcp_describe[22788:24652][\"current_mA\"]\r\n",
    "current_ma10=data_frame_dhcp_describe[25053:26917][\"current_mA\"]\r\n",
    "\r\n",
    "print(current_ma2)\r\n",
    "\r\n",
    "average=[]\r\n",
    "average.append(sum(current_ma1)/len(current_ma1))\r\n",
    "average.append(sum(current_ma2)/len(current_ma2))\r\n",
    "average.append(sum(current_ma3)/len(current_ma3))\r\n",
    "average.append(sum(current_ma4)/len(current_ma4))\r\n",
    "average.append(sum(current_ma5)/len(current_ma5))\r\n",
    "average.append(sum(current_ma6)/len(current_ma6))\r\n",
    "average.append(sum(current_ma7)/len(current_ma7))\r\n",
    "average.append(sum(current_ma8)/len(current_ma8))\r\n",
    "average.append(sum(current_ma9)/len(current_ma9))\r\n",
    "average.append(sum(current_ma10)/len(current_ma10))\r\n",
    "\r\n",
    "\r\n",
    "\r\n",
    "total=[]\r\n",
    "\r\n",
    "dif1=data_frame_dhcp_describe[\"time_ms\"][4037]-data_frame_dhcp_describe[\"time_ms\"][2173]\r\n",
    "print(\"DIF: \", dif1)\r\n",
    "print(\"A:_ \", data_frame_dhcp_describe[\"time_ms\"][3035])\r\n",
    "print(\"B: \",data_frame_dhcp_describe[\"time_ms\"][1543])\r\n",
    "total.append(dif1*average[0]/1000)\r\n",
    "\r\n",
    "dif2=data_frame_dhcp_describe[\"time_ms\"][6623]-data_frame_dhcp_describe[\"time_ms\"][4391]\r\n",
    "total.append(dif2*average[1]/1000)\r\n",
    "\r\n",
    "dif3=data_frame_dhcp_describe[\"time_ms\"][8923]-data_frame_dhcp_describe[\"time_ms\"][7060]\r\n",
    "total.append(dif3*average[2]/1000)\r\n",
    "\r\n",
    "dif4=data_frame_dhcp_describe[\"time_ms\"][11240]-data_frame_dhcp_describe[\"time_ms\"][9377]\r\n",
    "total.append(dif4*average[3]/1000)\r\n",
    "\r\n",
    "dif5=data_frame_dhcp_describe[\"time_ms\"][13608]-data_frame_dhcp_describe[\"time_ms\"][11736]\r\n",
    "total.append(dif5*average[4]/1000)\r\n",
    "\r\n",
    "dif6=data_frame_dhcp_describe[\"time_ms\"][15806]-data_frame_dhcp_describe[\"time_ms\"][13914]\r\n",
    "total.append(dif6*average[5]/1000)\r\n",
    "\r\n",
    "dif7=data_frame_dhcp_describe[\"time_ms\"][20055]-data_frame_dhcp_describe[\"time_ms\"][18191]\r\n",
    "total.append(dif7*average[6]/1000)\r\n",
    "\r\n",
    "dif8=data_frame_dhcp_describe[\"time_ms\"][22358]-data_frame_dhcp_describe[\"time_ms\"][20495]\r\n",
    "total.append(dif8*average[7]/1000)\r\n",
    "\r\n",
    "dif9=data_frame_dhcp_describe[\"time_ms\"][24652]-data_frame_dhcp_describe[\"time_ms\"][22789]\r\n",
    "total.append(dif9*average[8]/1000)\r\n",
    "\r\n",
    "dif10=data_frame_dhcp_describe[\"time_ms\"][26917]-data_frame_dhcp_describe[\"time_ms\"][25054]\r\n",
    "total.append(dif10*average[9]/1000)\r\n",
    "\r\n",
    "\r\n",
    "\r\n",
    "\r\n",
    "\r\n",
    "\r\n",
    "\r\n",
    "print(\"DHCP RANDOM MAC in maS\")\r\n",
    "print(\"DURCHSCHNITT: \",np.average(total))\r\n",
    "print(\"STANDARDABWEICHUNG: \",np.std(total))\r\n",
    "print(\"MIN: \",np.min(total))\r\n",
    "print(\"MAX: \",np.max(total))\r\n",
    "print(\"25: \",np.quantile(total,0.25))\r\n",
    "print(\"50: \",np.quantile(total,0.5))\r\n",
    "print(\"75: \",np.quantile(total,0.75))\r\n",
    "\r\n"
   ],
   "outputs": [
    {
     "output_type": "stream",
     "name": "stdout",
     "text": [
      "4390    21.62727\n",
      "4391    23.15000\n",
      "4392    22.65000\n",
      "4393    22.45909\n",
      "4394    22.35455\n",
      "          ...   \n",
      "6618    68.45000\n",
      "6619    68.42727\n",
      "6620    68.41364\n",
      "6621    68.40455\n",
      "6622    67.55455\n",
      "Name: current_mA, Length: 2233, dtype: float64\n",
      "DIF:  5058\n",
      "A:_  23028\n",
      "B:  18985\n",
      "DHCP RANDOM MAC in maS\n",
      "DURCHSCHNITT:  360.97771972145284\n",
      "STANDARDABWEICHUNG:  19.895900871945333\n",
      "MIN:  353.06596882202234\n",
      "MAX:  420.63867109535704\n",
      "25:  354.2274983505981\n",
      "50:  354.45070733739624\n",
      "75:  354.59792067087653\n"
     ]
    }
   ],
   "metadata": {}
  },
  {
   "cell_type": "markdown",
   "source": [
    "# DHCP No random MAC"
   ],
   "metadata": {}
  },
  {
   "cell_type": "code",
   "execution_count": 262,
   "source": [
    "data_frame_dhcp = pd.read_csv(\"dhcp_no_random_mac.csv\", sep=\" \", names=[\"time_ms\", \"current_mA\"])\r\n",
    "df_dhcp = data_frame_dhcp[30995:33255]\r\n",
    "plt.title(\"(DHCP) \" + calc_load_coulomb_str(df_dhcp))\r\n",
    "plt.xlabel(\"t [ms]\")\r\n",
    "plt.ylabel(\"Current [mA]\")\r\n",
    "plt.plot(df_dhcp.time_ms[:, None], df_dhcp.current_mA[:, None], label=\"Current [mA]\")\r\n",
    "plt.axvspan(98743, 102794, color='green', alpha=0.3, label=\"Establish connection (~4051ms)\")\r\n",
    "plt.legend()\r\n",
    "plt.show()"
   ],
   "outputs": [
    {
     "output_type": "stream",
     "name": "stderr",
     "text": [
      "<ipython-input-262-18831985e342>:6: FutureWarning: Support for multi-dimensional indexing (e.g. `obj[:, None]`) is deprecated and will be removed in a future version.  Convert to a numpy array before indexing instead.\n",
      "  plt.plot(df_dhcp.time_ms[:, None], df_dhcp.current_mA[:, None], label=\"Current [mA]\")\n"
     ]
    },
    {
     "output_type": "display_data",
     "data": {
      "image/png": "[encoded data removed]",
      "text/plain": [
       "<Figure size 504x360 with 1 Axes>"
      ]
     },
     "metadata": {
      "needs_background": "light"
     }
    }
   ],
   "metadata": {}
  },
  {
   "cell_type": "code",
   "execution_count": 263,
   "source": [
    "#NO RANDOM MAC\r\n",
    "data_frame_dhcp_describe = pd.read_csv(\"dhcp_no_random_mac.csv\", sep=\" \", names=[\"time_ms\", \"current_mA\"])\r\n",
    "\r\n",
    "current_ma1=data_frame_dhcp_describe[1543:3035][\"current_mA\"]\r\n",
    "current_ma2=data_frame_dhcp_describe[3427:4917][\"current_mA\"]\r\n",
    "current_ma3=data_frame_dhcp_describe[5199:6690][\"current_mA\"]\r\n",
    "current_ma4=data_frame_dhcp_describe[6992:8486][\"current_mA\"]\r\n",
    "current_ma5=data_frame_dhcp_describe[8749:10241][\"current_mA\"]\r\n",
    "current_ma6=data_frame_dhcp_describe[10578:12071][\"current_mA\"]\r\n",
    "current_ma7=data_frame_dhcp_describe[12349:13841][\"current_mA\"]\r\n",
    "current_ma8=data_frame_dhcp_describe[14074:15566][\"current_mA\"]\r\n",
    "current_ma9=data_frame_dhcp_describe[15836:17705][\"current_mA\"]\r\n",
    "current_ma10=data_frame_dhcp_describe[17960:19452][\"current_mA\"]\r\n",
    "current_ma11=data_frame_dhcp_describe[19779:21273][\"current_mA\"]\r\n",
    "current_ma12=data_frame_dhcp_describe[21527:23019][\"current_mA\"]\r\n",
    "current_ma13=data_frame_dhcp_describe[23329:24828][\"current_mA\"]\r\n",
    "current_ma14=data_frame_dhcp_describe[25128:26621][\"current_mA\"]\r\n",
    "current_ma15=data_frame_dhcp_describe[26992:28486][\"current_mA\"]\r\n",
    "\r\n",
    "average=[]\r\n",
    "average.append(sum(current_ma1)/len(current_ma1))\r\n",
    "average.append(sum(current_ma2)/len(current_ma2))\r\n",
    "average.append(sum(current_ma3)/len(current_ma3))\r\n",
    "average.append(sum(current_ma4)/len(current_ma4))\r\n",
    "average.append(sum(current_ma5)/len(current_ma5))\r\n",
    "average.append(sum(current_ma6)/len(current_ma6))\r\n",
    "average.append(sum(current_ma7)/len(current_ma7))\r\n",
    "average.append(sum(current_ma8)/len(current_ma8))\r\n",
    "average.append(sum(current_ma9)/len(current_ma9))\r\n",
    "average.append(sum(current_ma10)/len(current_ma10))\r\n",
    "average.append(sum(current_ma11)/len(current_ma11))\r\n",
    "average.append(sum(current_ma12)/len(current_ma12))\r\n",
    "average.append(sum(current_ma13)/len(current_ma13))\r\n",
    "average.append(sum(current_ma14)/len(current_ma14))\r\n",
    "average.append(sum(current_ma15)/len(current_ma15))\r\n",
    "\r\n",
    "\r\n",
    "total=[]\r\n",
    "\r\n",
    "dif1=data_frame_dhcp_describe[\"time_ms\"][3035]-data_frame_dhcp_describe[\"time_ms\"][1543]\r\n",
    "total.append(dif1*average[0]/1000)\r\n",
    "\r\n",
    "dif2=data_frame_dhcp_describe[\"time_ms\"][4917]-data_frame_dhcp_describe[\"time_ms\"][3427]\r\n",
    "total.append(dif2*average[1]/1000)\r\n",
    "\r\n",
    "dif3=data_frame_dhcp_describe[\"time_ms\"][6690]-data_frame_dhcp_describe[\"time_ms\"][5199]\r\n",
    "total.append(dif3*average[2]/1000)\r\n",
    "\r\n",
    "dif4=data_frame_dhcp_describe[\"time_ms\"][8486]-data_frame_dhcp_describe[\"time_ms\"][6992]\r\n",
    "total.append(dif4*average[3]/1000)\r\n",
    "\r\n",
    "dif5=data_frame_dhcp_describe[\"time_ms\"][10241]-data_frame_dhcp_describe[\"time_ms\"][8749]\r\n",
    "total.append(dif5*average[4]/1000)\r\n",
    "\r\n",
    "dif6=data_frame_dhcp_describe[\"time_ms\"][12071]-data_frame_dhcp_describe[\"time_ms\"][10578]\r\n",
    "total.append(dif6*average[5]/1000)\r\n",
    "\r\n",
    "dif7=data_frame_dhcp_describe[\"time_ms\"][13841]-data_frame_dhcp_describe[\"time_ms\"][12349]\r\n",
    "total.append(dif7*average[6]/1000)\r\n",
    "\r\n",
    "dif8=data_frame_dhcp_describe[\"time_ms\"][15566]-data_frame_dhcp_describe[\"time_ms\"][14074]\r\n",
    "total.append(dif8*average[7]/1000)\r\n",
    "\r\n",
    "# dif9=data_frame_dhcp_describe[\"time_ms\"][17705]-data_frame_dhcp_describe[\"time_ms\"][15836]\r\n",
    "# total.append(dif9*average[8]/1000)\r\n",
    "\r\n",
    "dif10=data_frame_dhcp_describe[\"time_ms\"][19452]-data_frame_dhcp_describe[\"time_ms\"][17960]\r\n",
    "total.append(dif10*average[9]/1000)\r\n",
    "\r\n",
    "dif11=data_frame_dhcp_describe[\"time_ms\"][21273]-data_frame_dhcp_describe[\"time_ms\"][19779]\r\n",
    "total.append(dif11*average[10]/1000)\r\n",
    "\r\n",
    "dif12=data_frame_dhcp_describe[\"time_ms\"][23019]-data_frame_dhcp_describe[\"time_ms\"][21527]\r\n",
    "total.append(dif12*average[11]/1000)\r\n",
    "\r\n",
    "dif13=data_frame_dhcp_describe[\"time_ms\"][24828]-data_frame_dhcp_describe[\"time_ms\"][23329]\r\n",
    "total.append(dif13*average[12]/1000)\r\n",
    "\r\n",
    "dif14=data_frame_dhcp_describe[\"time_ms\"][26621]-data_frame_dhcp_describe[\"time_ms\"][25128]\r\n",
    "total.append(dif14*average[13]/1000)\r\n",
    "\r\n",
    "dif15=data_frame_dhcp_describe[\"time_ms\"][28486]-data_frame_dhcp_describe[\"time_ms\"][26992]\r\n",
    "total.append(dif15*average[14]/1000)\r\n",
    "\r\n",
    "\r\n",
    "print(\"DHCP NO RANDOM MAC in maS\")\r\n",
    "print(\"DURCHSCHNITT: \",np.average(total))\r\n",
    "print(\"STANDARDABWEICHUNG: \",np.std(total))\r\n",
    "print(\"MIN: \",np.min(total))\r\n",
    "print(\"MAX: \",np.max(total))\r\n",
    "print(\"25: \",np.quantile(total,0.25))\r\n",
    "print(\"50: \",np.quantile(total,0.5))\r\n",
    "print(\"75: \",np.quantile(total,0.75))\r\n",
    "\r\n"
   ],
   "outputs": [
    {
     "output_type": "stream",
     "name": "stdout",
     "text": [
      "DIF:  4048\n",
      "A:_  22930\n",
      "B:  18882\n",
      "TOTAL:  284.70533353075734\n",
      "DHCP NO RANDOM MAC in maS\n",
      "DURCHSCHNITT:  284.0824260327963\n",
      "STANDARDABWEICHUNG:  0.8440364429896288\n",
      "MIN:  282.89842024743643\n",
      "MAX:  286.1236296820078\n",
      "25:  283.29829829178914\n",
      "50:  284.11267637952415\n",
      "75:  284.6500481178079\n"
     ]
    }
   ],
   "metadata": {}
  },
  {
   "cell_type": "markdown",
   "source": [
    "# Static "
   ],
   "metadata": {}
  },
  {
   "cell_type": "code",
   "execution_count": 264,
   "source": [
    "data_frame_static = pd.read_csv(\"static_ip.csv\", sep=\" \", names=[\"time_ms\", \"current_mA\"])\r\n",
    "df_static = data_frame_static[1530:3750]\r\n",
    "plt.title(\"(Static IP) \" + calc_load_coulomb_str(df_static))\r\n",
    "plt.xlabel(\"t [ms]\")\r\n",
    "plt.ylabel(\"Current [mA]\")\r\n",
    "plt.plot(df_static.time_ms[:, None], df_static.current_mA[:, None], label=\"Current [mA]\")\r\n",
    "plt.axvspan(38409, 42435, color='green', alpha=0.3, label=\"Establish connection (~4026ms)\")\r\n",
    "plt.legend()\r\n",
    "plt.show()\r\n",
    "# plt.title(\"(Wakeup for DTIM [Beacon interval = 100ms]) \" + calc_load_coulomb_str(df_dtim))\r\n",
    "# plt.xlabel(\"t [ms]\")\r\n",
    "# plt.ylabel(\"Current [mA]\")\r\n",
    "# plt.plot(df_dtim.time_ms[:, None], df_dtim.current_mA[:, None], label=\"Current [mA]\")\r\n",
    "# plt.axvspan(12804, 12905, color='red', alpha=0.3, label=\"DTIM (Beacon interval: 100ms)\")\r\n",
    "# plt.legend(loc=\"upper left\")\r\n",
    "# plt.show()"
   ],
   "outputs": [
    {
     "output_type": "stream",
     "name": "stderr",
     "text": [
      "<ipython-input-264-1b79e28dcaba>:6: FutureWarning: Support for multi-dimensional indexing (e.g. `obj[:, None]`) is deprecated and will be removed in a future version.  Convert to a numpy array before indexing instead.\n",
      "  plt.plot(df_static.time_ms[:, None], df_static.current_mA[:, None], label=\"Current [mA]\")\n"
     ]
    },
    {
     "output_type": "display_data",
     "data": {
      "image/png": "[encoded data removed]",
      "text/plain": [
       "<Figure size 504x360 with 1 Axes>"
      ]
     },
     "metadata": {
      "needs_background": "light"
     }
    }
   ],
   "metadata": {}
  },
  {
   "cell_type": "code",
   "execution_count": 265,
   "source": [
    "data_frame_dhcp_describe = pd.read_csv(\"static.csv\", sep=\" \", names=[\"time_ms\", \"current_mA\"])\r\n",
    "\r\n",
    "current_ma1=data_frame_dhcp_describe[13:1497][\"current_mA\"]\r\n",
    "current_ma2=data_frame_dhcp_describe[1644:3130][\"current_mA\"]\r\n",
    "current_ma3=data_frame_dhcp_describe[3333:4819][\"current_mA\"]\r\n",
    "current_ma4=data_frame_dhcp_describe[4975:6465][\"current_mA\"]\r\n",
    "current_ma5=data_frame_dhcp_describe[6644:8132][\"current_mA\"]\r\n",
    "current_ma6=data_frame_dhcp_describe[8353:9842][\"current_mA\"]\r\n",
    "current_ma7=data_frame_dhcp_describe[10005:11494][\"current_mA\"]\r\n",
    "current_ma8=data_frame_dhcp_describe[11669:13155][\"current_mA\"]\r\n",
    "current_ma9=data_frame_dhcp_describe[13339:14825][\"current_mA\"]\r\n",
    "current_ma10=data_frame_dhcp_describe[15086:16575][\"current_mA\"]\r\n",
    "current_ma11=data_frame_dhcp_describe[16843:18329][\"current_mA\"]\r\n",
    "current_ma12=data_frame_dhcp_describe[18538:20028][\"current_mA\"]\r\n",
    "current_ma13=data_frame_dhcp_describe[20181:21666][\"current_mA\"]\r\n",
    "current_ma14=data_frame_dhcp_describe[21955:23442][\"current_mA\"]\r\n",
    "current_ma15=data_frame_dhcp_describe[23817:25303][\"current_mA\"]\r\n",
    "\r\n",
    "average=[]\r\n",
    "average.append(sum(current_ma1)/len(current_ma1))\r\n",
    "average.append(sum(current_ma2)/len(current_ma2))\r\n",
    "average.append(sum(current_ma3)/len(current_ma3))\r\n",
    "average.append(sum(current_ma4)/len(current_ma4))\r\n",
    "average.append(sum(current_ma5)/len(current_ma5))\r\n",
    "average.append(sum(current_ma6)/len(current_ma6))\r\n",
    "average.append(sum(current_ma7)/len(current_ma7))\r\n",
    "average.append(sum(current_ma8)/len(current_ma8))\r\n",
    "average.append(sum(current_ma9)/len(current_ma9))\r\n",
    "average.append(sum(current_ma10)/len(current_ma10))\r\n",
    "average.append(sum(current_ma11)/len(current_ma11))\r\n",
    "average.append(sum(current_ma12)/len(current_ma12))\r\n",
    "average.append(sum(current_ma13)/len(current_ma13))\r\n",
    "average.append(sum(current_ma14)/len(current_ma14))\r\n",
    "average.append(sum(current_ma15)/len(current_ma15))\r\n",
    "\r\n",
    "total=[]\r\n",
    "\r\n",
    "dif1=data_frame_dhcp_describe[\"time_ms\"][1497]-data_frame_dhcp_describe[\"time_ms\"][13]\r\n",
    "total.append(dif1*average[0]/1000)\r\n",
    "\r\n",
    "dif2=data_frame_dhcp_describe[\"time_ms\"][3130]-data_frame_dhcp_describe[\"time_ms\"][1644]\r\n",
    "total.append(dif2*average[1]/1000)\r\n",
    "\r\n",
    "dif3=data_frame_dhcp_describe[\"time_ms\"][4819]-data_frame_dhcp_describe[\"time_ms\"][3333]\r\n",
    "total.append(dif3*average[2]/1000)\r\n",
    "\r\n",
    "dif4=data_frame_dhcp_describe[\"time_ms\"][6465]-data_frame_dhcp_describe[\"time_ms\"][4975]\r\n",
    "total.append(dif4*average[3]/1000)\r\n",
    "\r\n",
    "dif5=data_frame_dhcp_describe[\"time_ms\"][8132]-data_frame_dhcp_describe[\"time_ms\"][6644]\r\n",
    "total.append(dif5*average[4]/1000)\r\n",
    "\r\n",
    "dif6=data_frame_dhcp_describe[\"time_ms\"][9842]-data_frame_dhcp_describe[\"time_ms\"][8353]\r\n",
    "total.append(dif6*average[5]/1000)\r\n",
    "\r\n",
    "dif7=data_frame_dhcp_describe[\"time_ms\"][11494]-data_frame_dhcp_describe[\"time_ms\"][10005]\r\n",
    "total.append(dif7*average[6]/1000)\r\n",
    "\r\n",
    "dif8=data_frame_dhcp_describe[\"time_ms\"][13155]-data_frame_dhcp_describe[\"time_ms\"][11669]\r\n",
    "total.append(dif8*average[7]/1000)\r\n",
    "\r\n",
    "dif9=data_frame_dhcp_describe[\"time_ms\"][14825]-data_frame_dhcp_describe[\"time_ms\"][13339]\r\n",
    "total.append(dif9*average[8]/1000)\r\n",
    "\r\n",
    "dif10=data_frame_dhcp_describe[\"time_ms\"][16575]-data_frame_dhcp_describe[\"time_ms\"][15086]\r\n",
    "total.append(dif10*average[9]/1000)\r\n",
    "\r\n",
    "dif11=data_frame_dhcp_describe[\"time_ms\"][18329]-data_frame_dhcp_describe[\"time_ms\"][16843]\r\n",
    "total.append(dif11*average[10]/1000)\r\n",
    "\r\n",
    "dif12=data_frame_dhcp_describe[\"time_ms\"][20028]-data_frame_dhcp_describe[\"time_ms\"][18538]\r\n",
    "total.append(dif12*average[11]/1000)\r\n",
    "\r\n",
    "dif13=data_frame_dhcp_describe[\"time_ms\"][21666]-data_frame_dhcp_describe[\"time_ms\"][20181]\r\n",
    "total.append(dif13*average[12]/1000)\r\n",
    "\r\n",
    "dif14=data_frame_dhcp_describe[\"time_ms\"][23442]-data_frame_dhcp_describe[\"time_ms\"][21955]\r\n",
    "total.append(dif14*average[13]/1000)\r\n",
    "\r\n",
    "dif15=data_frame_dhcp_describe[\"time_ms\"][25303]-data_frame_dhcp_describe[\"time_ms\"][23817]\r\n",
    "total.append(dif15*average[14]/1000)\r\n",
    "\r\n",
    "\r\n",
    "print(\"STATIC in maS\")\r\n",
    "print(\"DURCHSCHNITT: \",np.average(total))\r\n",
    "print(\"STANDARDABWEICHUNG: \",np.std(total))\r\n",
    "print(\"MIN: \",np.min(total))\r\n",
    "print(\"MAX: \",np.max(total))\r\n",
    "print(\"25: \",np.quantile(total,0.25))\r\n",
    "print(\"50: \",np.quantile(total,0.5))\r\n",
    "print(\"75: \",np.quantile(total,0.75))"
   ],
   "outputs": [
    {
     "output_type": "stream",
     "name": "stdout",
     "text": [
      "STATIC in maS\n",
      "DURCHSCHNITT:  282.1795816338856\n",
      "STANDARDABWEICHUNG:  0.8479217803507532\n",
      "MIN:  280.4780749223046\n",
      "MAX:  283.0365399228271\n",
      "25:  281.8932587512468\n",
      "50:  282.64400007162385\n",
      "75:  282.7511277836038\n"
     ]
    }
   ],
   "metadata": {}
  }
 ],
 "metadata": {
  "orig_nbformat": 4,
  "language_info": {
   "name": "python",
   "version": "3.9.0",
   "mimetype": "text/x-python",
   "codemirror_mode": {
    "name": "ipython",
    "version": 3
   },
   "pygments_lexer": "ipython3",
   "nbconvert_exporter": "python",
   "file_extension": ".py"
  },
  "kernelspec": {
   "name": "python3",
   "display_name": "Python 3.9.0 64-bit"
  },
  "interpreter": {
   "hash": "63fd5069d213b44bf678585dea6b12cceca9941eaf7f819626cde1f2670de90d"
  }
 },
 "nbformat": 4,
 "nbformat_minor": 2
}