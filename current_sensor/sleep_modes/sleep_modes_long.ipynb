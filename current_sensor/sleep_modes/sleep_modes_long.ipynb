{
 "cells": [
  {
   "cell_type": "code",
   "execution_count": null,
   "metadata": {},
   "outputs": [],
   "source": [
    "import pandas as pd\n",
    "from scipy import integrate\n",
    "import matplotlib.pyplot as plt\n",
    "\n",
    "plt.rcParams[\"figure.figsize\"] = (20,7)"
   ]
  },
  {
   "cell_type": "markdown",
   "metadata": {},
   "source": [
    "# read the measurements file"
   ]
  },
  {
   "cell_type": "code",
   "execution_count": 167,
   "metadata": {},
   "outputs": [],
   "source": [
    "def calc_AmpereSecFromDataFrame(df):\n",
    "    return integrate.trapz(df.current_mA.div(1000), df.time_ms.div(1000))\n",
    "\n",
    "\n",
    "def calc_load_coulomb_str(df):\n",
    "    load = calc_AmpereSecFromDataFrame(df)\n",
    "    return \"Q = {:.4f} As\".format(load)"
   ]
  },
  {
   "cell_type": "markdown",
   "metadata": {},
   "source": [
    "# Deep sleep"
   ]
  },
  {
   "cell_type": "code",
   "execution_count": 225,
   "metadata": {},
   "outputs": [
    {
     "data": {
      "text/html": [
       "<div>\n",
       "<style scoped>\n",
       "    .dataframe tbody tr th:only-of-type {\n",
       "        vertical-align: middle;\n",
       "    }\n",
       "\n",
       "    .dataframe tbody tr th {\n",
       "        vertical-align: top;\n",
       "    }\n",
       "\n",
       "    .dataframe thead th {\n",
       "        text-align: right;\n",
       "    }\n",
       "</style>\n",
       "<table border=\"1\" class=\"dataframe\">\n",
       "  <thead>\n",
       "    <tr style=\"text-align: right;\">\n",
       "      <th></th>\n",
       "      <th>time_ms</th>\n",
       "      <th>current_mA</th>\n",
       "    </tr>\n",
       "  </thead>\n",
       "  <tbody>\n",
       "    <tr>\n",
       "      <th>count</th>\n",
       "      <td>3.937500e+06</td>\n",
       "      <td>3.937500e+06</td>\n",
       "    </tr>\n",
       "    <tr>\n",
       "      <th>mean</th>\n",
       "      <td>4.380048e+06</td>\n",
       "      <td>1.272215e-01</td>\n",
       "    </tr>\n",
       "    <tr>\n",
       "      <th>std</th>\n",
       "      <td>2.542643e+06</td>\n",
       "      <td>2.783496e+00</td>\n",
       "    </tr>\n",
       "    <tr>\n",
       "      <th>min</th>\n",
       "      <td>1.200000e+01</td>\n",
       "      <td>4.550000e-03</td>\n",
       "    </tr>\n",
       "    <tr>\n",
       "      <th>25%</th>\n",
       "      <td>2.174238e+06</td>\n",
       "      <td>2.273000e-02</td>\n",
       "    </tr>\n",
       "    <tr>\n",
       "      <th>50%</th>\n",
       "      <td>4.378065e+06</td>\n",
       "      <td>3.182000e-02</td>\n",
       "    </tr>\n",
       "    <tr>\n",
       "      <th>75%</th>\n",
       "      <td>6.582684e+06</td>\n",
       "      <td>4.091000e-02</td>\n",
       "    </tr>\n",
       "    <tr>\n",
       "      <th>max</th>\n",
       "      <td>8.787198e+06</td>\n",
       "      <td>1.454545e+02</td>\n",
       "    </tr>\n",
       "  </tbody>\n",
       "</table>\n",
       "</div>"
      ],
      "text/plain": [
       "            time_ms    current_mA\n",
       "count  3.937500e+06  3.937500e+06\n",
       "mean   4.380048e+06  1.272215e-01\n",
       "std    2.542643e+06  2.783496e+00\n",
       "min    1.200000e+01  4.550000e-03\n",
       "25%    2.174238e+06  2.273000e-02\n",
       "50%    4.378065e+06  3.182000e-02\n",
       "75%    6.582684e+06  4.091000e-02\n",
       "max    8.787198e+06  1.454545e+02"
      ]
     },
     "execution_count": 225,
     "metadata": {},
     "output_type": "execute_result"
    }
   ],
   "source": [
    "df_deep_sleep = pd.read_csv(\"~/deep_sleep_15min.csv\", sep=\" \", names=[\"time_ms\", \"current_mA\"])\n",
    "df_deep_sleep = df_deep_sleep[df_deep_sleep.current_mA < 500]\n",
    "df_deep_sleep = df_deep_sleep[df_deep_sleep.current_mA > 0]\n",
    "df_deep_sleep = df_deep_sleep[df_deep_sleep.time_ms < 8787200]\n",
    "df_deep_sleep.describe()"
   ]
  },
  {
   "cell_type": "code",
   "execution_count": 234,
   "metadata": {},
   "outputs": [
    {
     "data": {
      "text/plain": [
       "<matplotlib.axes._subplots.AxesSubplot at 0x7fdd4296cb90>"
      ]
     },
     "execution_count": 234,
     "metadata": {},
     "output_type": "execute_result"
    },
    {
     "data": {
      "image/png": "[encoded data removed]",
      "text/plain": [
       "<Figure size 1440x504 with 1 Axes>"
      ]
     },
     "metadata": {
      "needs_background": "light"
     },
     "output_type": "display_data"
    }
   ],
   "source": [
    "plt.boxplot(df_deep_sleep.current_mA, showfliers=False)"
   ]
  },
  {
   "cell_type": "code",
   "execution_count": 226,
   "metadata": {},
   "outputs": [
    {
     "name": "stdout",
     "output_type": "stream",
     "text": [
      "Deep sleep: 1.119474068940207 As\n"
     ]
    }
   ],
   "source": [
    "deep_sleep_load = calc_AmpereSecFromDataFrame(df_deep_sleep)\n",
    "print(\"Deep sleep:\", deep_sleep_load, \"As\")"
   ]
  },
  {
   "cell_type": "code",
   "execution_count": null,
   "metadata": {},
   "outputs": [],
   "source": [
    "plt.title(\"(Deep sleep) \" + calc_load_coulomb_str(deep_sleep_load))\n",
    "plt.xlabel(\"t [min]\")\n",
    "plt.ylabel(\"Current [mA]\")\n",
    "plt.plot(deep_sleep_load.time_ms[:, None] / 60000, deep_sleep_load.current_mA[:, None], label=\"Current [mA]\")\n",
    "plt.legend()\n",
    "plt.show()"
   ]
  },
  {
   "cell_type": "markdown",
   "metadata": {},
   "source": [
    "# Light sleep"
   ]
  },
  {
   "cell_type": "code",
   "execution_count": 228,
   "metadata": {},
   "outputs": [
    {
     "name": "stdout",
     "output_type": "stream",
     "text": [
      "Light sleep: 182.30781510423694 As\n"
     ]
    },
    {
     "data": {
      "text/html": [
       "<div>\n",
       "<style scoped>\n",
       "    .dataframe tbody tr th:only-of-type {\n",
       "        vertical-align: middle;\n",
       "    }\n",
       "\n",
       "    .dataframe tbody tr th {\n",
       "        vertical-align: top;\n",
       "    }\n",
       "\n",
       "    .dataframe thead th {\n",
       "        text-align: right;\n",
       "    }\n",
       "</style>\n",
       "<table border=\"1\" class=\"dataframe\">\n",
       "  <thead>\n",
       "    <tr style=\"text-align: right;\">\n",
       "      <th></th>\n",
       "      <th>time_ms</th>\n",
       "      <th>current_mA</th>\n",
       "    </tr>\n",
       "  </thead>\n",
       "  <tbody>\n",
       "    <tr>\n",
       "      <th>count</th>\n",
       "      <td>3.893654e+06</td>\n",
       "      <td>3.893654e+06</td>\n",
       "    </tr>\n",
       "    <tr>\n",
       "      <th>mean</th>\n",
       "      <td>4.378972e+06</td>\n",
       "      <td>2.046220e+01</td>\n",
       "    </tr>\n",
       "    <tr>\n",
       "      <th>std</th>\n",
       "      <td>2.543038e+06</td>\n",
       "      <td>3.101918e+01</td>\n",
       "    </tr>\n",
       "    <tr>\n",
       "      <th>min</th>\n",
       "      <td>1.200000e+01</td>\n",
       "      <td>6.590900e-01</td>\n",
       "    </tr>\n",
       "    <tr>\n",
       "      <th>25%</th>\n",
       "      <td>2.172502e+06</td>\n",
       "      <td>1.045450e+00</td>\n",
       "    </tr>\n",
       "    <tr>\n",
       "      <th>50%</th>\n",
       "      <td>4.376953e+06</td>\n",
       "      <td>1.386360e+00</td>\n",
       "    </tr>\n",
       "    <tr>\n",
       "      <th>75%</th>\n",
       "      <td>6.581894e+06</td>\n",
       "      <td>1.723636e+01</td>\n",
       "    </tr>\n",
       "    <tr>\n",
       "      <th>max</th>\n",
       "      <td>8.787198e+06</td>\n",
       "      <td>1.454545e+02</td>\n",
       "    </tr>\n",
       "  </tbody>\n",
       "</table>\n",
       "</div>"
      ],
      "text/plain": [
       "            time_ms    current_mA\n",
       "count  3.893654e+06  3.893654e+06\n",
       "mean   4.378972e+06  2.046220e+01\n",
       "std    2.543038e+06  3.101918e+01\n",
       "min    1.200000e+01  6.590900e-01\n",
       "25%    2.172502e+06  1.045450e+00\n",
       "50%    4.376953e+06  1.386360e+00\n",
       "75%    6.581894e+06  1.723636e+01\n",
       "max    8.787198e+06  1.454545e+02"
      ]
     },
     "execution_count": 228,
     "metadata": {},
     "output_type": "execute_result"
    }
   ],
   "source": [
    "df_light_sleep = pd.read_csv(\"~/light_sleep_15min.csv\", sep=\" \", names=[\"time_ms\", \"current_mA\"])\n",
    "df_light_sleep = df_light_sleep[df_light_sleep.current_mA < 500]\n",
    "df_light_sleep = df_light_sleep[df_light_sleep.current_mA > 0]\n",
    "df_light_sleep = df_light_sleep[df_light_sleep.time_ms < 8787200]\n",
    "\n",
    "modem_light_load = calc_AmpereSecFromDataFrame(df_light_sleep)\n",
    "print(\"Light sleep:\", modem_light_load, \"As\")\n",
    "df_light_sleep.describe()"
   ]
  },
  {
   "cell_type": "code",
   "execution_count": 218,
   "metadata": {},
   "outputs": [
    {
     "data": {
      "text/html": [
       "<div>\n",
       "<style scoped>\n",
       "    .dataframe tbody tr th:only-of-type {\n",
       "        vertical-align: middle;\n",
       "    }\n",
       "\n",
       "    .dataframe tbody tr th {\n",
       "        vertical-align: top;\n",
       "    }\n",
       "\n",
       "    .dataframe thead th {\n",
       "        text-align: right;\n",
       "    }\n",
       "</style>\n",
       "<table border=\"1\" class=\"dataframe\">\n",
       "  <thead>\n",
       "    <tr style=\"text-align: right;\">\n",
       "      <th></th>\n",
       "      <th>time_ms</th>\n",
       "      <th>current_mA</th>\n",
       "    </tr>\n",
       "  </thead>\n",
       "  <tbody>\n",
       "    <tr>\n",
       "      <th>3893651</th>\n",
       "      <td>8787193</td>\n",
       "      <td>78.85000</td>\n",
       "    </tr>\n",
       "    <tr>\n",
       "      <th>3893652</th>\n",
       "      <td>8787195</td>\n",
       "      <td>78.70909</td>\n",
       "    </tr>\n",
       "    <tr>\n",
       "      <th>3893653</th>\n",
       "      <td>8787198</td>\n",
       "      <td>78.84546</td>\n",
       "    </tr>\n",
       "  </tbody>\n",
       "</table>\n",
       "</div>"
      ],
      "text/plain": [
       "         time_ms  current_mA\n",
       "3893651  8787193    78.85000\n",
       "3893652  8787195    78.70909\n",
       "3893653  8787198    78.84546"
      ]
     },
     "execution_count": 218,
     "metadata": {},
     "output_type": "execute_result"
    }
   ],
   "source": [
    "df_light_sleep.head(3)\n",
    "df_light_sleep.tail(3)"
   ]
  },
  {
   "cell_type": "code",
   "execution_count": 220,
   "metadata": {},
   "outputs": [
    {
     "name": "stderr",
     "output_type": "stream",
     "text": [
      "/Users/DEV/miniconda3/envs/ml/lib/python3.7/site-packages/ipykernel_launcher.py:4: FutureWarning: Support for multi-dimensional indexing (e.g. `obj[:, None]`) is deprecated and will be removed in a future version.  Convert to a numpy array before indexing instead.\n",
      "  after removing the cwd from sys.path.\n",
      "/Users/DEV/miniconda3/envs/ml/lib/python3.7/site-packages/IPython/core/pylabtools.py:132: UserWarning: Creating legend with loc=\"best\" can be slow with large amounts of data.\n",
      "  fig.canvas.print_figure(bytes_io, **kw)\n"
     ]
    },
    {
     "data": {
      "image/png": "[encoded data removed]",
      "text/plain": [
       "<Figure size 1440x504 with 1 Axes>"
      ]
     },
     "metadata": {
      "needs_background": "light"
     },
     "output_type": "display_data"
    }
   ],
   "source": [
    "plt.title(\"(Light sleep) \" + calc_load_coulomb_str(df_light_sleep))\n",
    "plt.xlabel(\"t [min]\")\n",
    "plt.ylabel(\"Current [mA]\")\n",
    "plt.plot(df_light_sleep.time_ms[:, None] / 60000, df_light_sleep.current_mA[:, None], label=\"Current [mA]\")\n",
    "plt.legend()\n",
    "plt.show()"
   ]
  },
  {
   "cell_type": "markdown",
   "metadata": {},
   "source": [
    "# Modem sleep"
   ]
  },
  {
   "cell_type": "code",
   "execution_count": 229,
   "metadata": {},
   "outputs": [
    {
     "name": "stdout",
     "output_type": "stream",
     "text": [
      "Modem sleep: 323.769500647573 As\n"
     ]
    },
    {
     "data": {
      "text/html": [
       "<div>\n",
       "<style scoped>\n",
       "    .dataframe tbody tr th:only-of-type {\n",
       "        vertical-align: middle;\n",
       "    }\n",
       "\n",
       "    .dataframe tbody tr th {\n",
       "        vertical-align: top;\n",
       "    }\n",
       "\n",
       "    .dataframe thead th {\n",
       "        text-align: right;\n",
       "    }\n",
       "</style>\n",
       "<table border=\"1\" class=\"dataframe\">\n",
       "  <thead>\n",
       "    <tr style=\"text-align: right;\">\n",
       "      <th></th>\n",
       "      <th>time_ms</th>\n",
       "      <th>current_mA</th>\n",
       "    </tr>\n",
       "  </thead>\n",
       "  <tbody>\n",
       "    <tr>\n",
       "      <th>count</th>\n",
       "      <td>3.824359e+06</td>\n",
       "      <td>3.824359e+06</td>\n",
       "    </tr>\n",
       "    <tr>\n",
       "      <th>mean</th>\n",
       "      <td>4.373039e+06</td>\n",
       "      <td>3.690340e+01</td>\n",
       "    </tr>\n",
       "    <tr>\n",
       "      <th>std</th>\n",
       "      <td>2.541366e+06</td>\n",
       "      <td>2.807145e+01</td>\n",
       "    </tr>\n",
       "    <tr>\n",
       "      <th>min</th>\n",
       "      <td>1.200000e+01</td>\n",
       "      <td>4.550000e-03</td>\n",
       "    </tr>\n",
       "    <tr>\n",
       "      <th>25%</th>\n",
       "      <td>2.168580e+06</td>\n",
       "      <td>1.744091e+01</td>\n",
       "    </tr>\n",
       "    <tr>\n",
       "      <th>50%</th>\n",
       "      <td>4.369236e+06</td>\n",
       "      <td>1.747273e+01</td>\n",
       "    </tr>\n",
       "    <tr>\n",
       "      <th>75%</th>\n",
       "      <td>6.570794e+06</td>\n",
       "      <td>7.703182e+01</td>\n",
       "    </tr>\n",
       "    <tr>\n",
       "      <th>max</th>\n",
       "      <td>8.787198e+06</td>\n",
       "      <td>1.454545e+02</td>\n",
       "    </tr>\n",
       "  </tbody>\n",
       "</table>\n",
       "</div>"
      ],
      "text/plain": [
       "            time_ms    current_mA\n",
       "count  3.824359e+06  3.824359e+06\n",
       "mean   4.373039e+06  3.690340e+01\n",
       "std    2.541366e+06  2.807145e+01\n",
       "min    1.200000e+01  4.550000e-03\n",
       "25%    2.168580e+06  1.744091e+01\n",
       "50%    4.369236e+06  1.747273e+01\n",
       "75%    6.570794e+06  7.703182e+01\n",
       "max    8.787198e+06  1.454545e+02"
      ]
     },
     "execution_count": 229,
     "metadata": {},
     "output_type": "execute_result"
    }
   ],
   "source": [
    "df_modem_sleep = pd.read_csv(\"~/modem_sleep_15min.csv\", sep=\" \", names=[\"time_ms\", \"current_mA\"])\n",
    "#df_modem_sleep = df_modem_sleep[df_modem_sleep.time_ms < 8787200]\n",
    "df_modem_sleep = df_modem_sleep[df_modem_sleep.current_mA < 500]\n",
    "df_modem_sleep = df_modem_sleep[df_modem_sleep.current_mA > 0]\n",
    "df_modem_sleep = df_modem_sleep[df_modem_sleep.time_ms < 8787200]\n",
    "\n",
    "modem_sleep_load = calc_AmpereSecFromDataFrame(df_modem_sleep)\n",
    "print(\"Modem sleep:\", modem_sleep_load, \"As\")\n",
    "df_modem_sleep.describe()"
   ]
  },
  {
   "cell_type": "code",
   "execution_count": 222,
   "metadata": {},
   "outputs": [
    {
     "name": "stderr",
     "output_type": "stream",
     "text": [
      "/Users/DEV/miniconda3/envs/ml/lib/python3.7/site-packages/ipykernel_launcher.py:4: FutureWarning: Support for multi-dimensional indexing (e.g. `obj[:, None]`) is deprecated and will be removed in a future version.  Convert to a numpy array before indexing instead.\n",
      "  after removing the cwd from sys.path.\n",
      "/Users/DEV/miniconda3/envs/ml/lib/python3.7/site-packages/IPython/core/pylabtools.py:132: UserWarning: Creating legend with loc=\"best\" can be slow with large amounts of data.\n",
      "  fig.canvas.print_figure(bytes_io, **kw)\n"
     ]
    },
    {
     "data": {
      "image/png": "[encoded data removed]",
      "text/plain": [
       "<Figure size 1440x504 with 1 Axes>"
      ]
     },
     "metadata": {
      "needs_background": "light"
     },
     "output_type": "display_data"
    }
   ],
   "source": [
    "plt.title(\"(Modem sleep) \" + calc_load_coulomb_str(df_modem_sleep))\n",
    "plt.xlabel(\"t [min]\")\n",
    "plt.ylabel(\"Current [mA]\")\n",
    "plt.plot(df_modem_sleep.time_ms[:, None] / 60000, df_modem_sleep.current_mA[:, None], label=\"Current [mA]\")\n",
    "plt.legend()\n",
    "plt.show()"
   ]
  }
 ],
 "metadata": {
  "interpreter": {
   "hash": "da0dfe5e8111cef6e88d5e25005738bdf757ed7fe8ef7074be17f1ef6d0293da"
  },
  "kernelspec": {
   "display_name": "Python 3.9.7 64-bit ('ml': conda)",
   "name": "python3"
  },
  "language_info": {
   "codemirror_mode": {
    "name": "ipython",
    "version": 3
   },
   "file_extension": ".py",
   "mimetype": "text/x-python",
   "name": "python",
   "nbconvert_exporter": "python",
   "pygments_lexer": "ipython3",
   "version": "3.9.7"
  },
  "orig_nbformat": 4
 },
 "nbformat": 4,
 "nbformat_minor": 2
}
